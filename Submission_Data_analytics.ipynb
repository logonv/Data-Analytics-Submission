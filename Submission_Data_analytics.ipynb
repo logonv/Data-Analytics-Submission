{
 "cells": [
  {
   "cell_type": "markdown",
   "metadata": {
    "cell_id": "00000-c257bfe5-8b16-43a2-a586-90973f925fba",
    "deepnote_cell_type": "markdown",
    "tags": []
   },
   "source": [
    "# Submission Notebook"
   ]
  },
  {
   "cell_type": "markdown",
   "metadata": {
    "cell_id": "00001-8f9ce3a2-2279-4a6b-9353-031e2e23213a",
    "deepnote_cell_type": "text-cell-h1",
    "tags": []
   },
   "source": [
    "# Reddit Data Exploration"
   ]
  },
  {
   "cell_type": "code",
   "execution_count": 1,
   "metadata": {
    "cell_id": "00002-a917df11-f920-4f32-8ee7-e764c684a5e6",
    "deepnote_cell_type": "code",
    "deepnote_to_be_reexecuted": false,
    "execution_millis": 645,
    "execution_start": 1617726039149,
    "source_hash": "bbc8576f",
    "tags": []
   },
   "outputs": [],
   "source": [
    "#import libraries\n",
    "import numpy as np\n",
    "import pandas as pd\n",
    "%matplotlib inline\n",
    "import matplotlib.pyplot as plt\n",
    "from dateutil.parser import parse"
   ]
  },
  {
   "cell_type": "code",
   "execution_count": 2,
   "metadata": {
    "cell_id": "00003-3fd86f66-4574-436a-8035-86488a4ce8ba",
    "deepnote_cell_type": "code",
    "deepnote_to_be_reexecuted": false,
    "execution_millis": 117,
    "execution_start": 1617726039800,
    "source_hash": "9318f1bc",
    "tags": []
   },
   "outputs": [
    {
     "data": {
      "text/html": [
       "<div>\n",
       "<style scoped>\n",
       "    .dataframe tbody tr th:only-of-type {\n",
       "        vertical-align: middle;\n",
       "    }\n",
       "\n",
       "    .dataframe tbody tr th {\n",
       "        vertical-align: top;\n",
       "    }\n",
       "\n",
       "    .dataframe thead th {\n",
       "        text-align: right;\n",
       "    }\n",
       "</style>\n",
       "<table border=\"1\" class=\"dataframe\">\n",
       "  <thead>\n",
       "    <tr style=\"text-align: right;\">\n",
       "      <th></th>\n",
       "      <th>title</th>\n",
       "      <th>score</th>\n",
       "      <th>url</th>\n",
       "      <th>No of comments</th>\n",
       "      <th>body</th>\n",
       "      <th>timestamp</th>\n",
       "    </tr>\n",
       "  </thead>\n",
       "  <tbody>\n",
       "    <tr>\n",
       "      <th>0</th>\n",
       "      <td>It's not about the money, it's about sending a...</td>\n",
       "      <td>55</td>\n",
       "      <td>https://v.redd.it/6j75regs72e61</td>\n",
       "      <td>6</td>\n",
       "      <td>NaN</td>\n",
       "      <td>2021-01-28 21:37:41</td>\n",
       "    </tr>\n",
       "    <tr>\n",
       "      <th>1</th>\n",
       "      <td>Math Professor Scott Steiner says the numbers ...</td>\n",
       "      <td>110</td>\n",
       "      <td>https://v.redd.it/ah50lyny62e61</td>\n",
       "      <td>23</td>\n",
       "      <td>NaN</td>\n",
       "      <td>2021-01-28 21:32:10</td>\n",
       "    </tr>\n",
       "    <tr>\n",
       "      <th>2</th>\n",
       "      <td>Exit the system</td>\n",
       "      <td>0</td>\n",
       "      <td>https://www.reddit.com/r/wallstreetbets/commen...</td>\n",
       "      <td>47</td>\n",
       "      <td>The CEO of NASDAQ pushed to halt trading “to g...</td>\n",
       "      <td>2021-01-28 21:30:35</td>\n",
       "    </tr>\n",
       "    <tr>\n",
       "      <th>3</th>\n",
       "      <td>NEW SEC FILING FOR GME! CAN SOMEONE LESS RETAR...</td>\n",
       "      <td>29</td>\n",
       "      <td>https://sec.report/Document/0001193125-21-019848/</td>\n",
       "      <td>74</td>\n",
       "      <td>NaN</td>\n",
       "      <td>2021-01-28 21:28:57</td>\n",
       "    </tr>\n",
       "    <tr>\n",
       "      <th>4</th>\n",
       "      <td>Not to distract from GME, just thought our AMC...</td>\n",
       "      <td>71</td>\n",
       "      <td>https://i.redd.it/4h2sukb662e61.jpg</td>\n",
       "      <td>156</td>\n",
       "      <td>NaN</td>\n",
       "      <td>2021-01-28 21:26:56</td>\n",
       "    </tr>\n",
       "  </tbody>\n",
       "</table>\n",
       "</div>"
      ],
      "text/plain": [
       "                                               title  score  \\\n",
       "0  It's not about the money, it's about sending a...     55   \n",
       "1  Math Professor Scott Steiner says the numbers ...    110   \n",
       "2                                    Exit the system      0   \n",
       "3  NEW SEC FILING FOR GME! CAN SOMEONE LESS RETAR...     29   \n",
       "4  Not to distract from GME, just thought our AMC...     71   \n",
       "\n",
       "                                                 url  No of comments  \\\n",
       "0                    https://v.redd.it/6j75regs72e61               6   \n",
       "1                    https://v.redd.it/ah50lyny62e61              23   \n",
       "2  https://www.reddit.com/r/wallstreetbets/commen...              47   \n",
       "3  https://sec.report/Document/0001193125-21-019848/              74   \n",
       "4                https://i.redd.it/4h2sukb662e61.jpg             156   \n",
       "\n",
       "                                                body           timestamp  \n",
       "0                                                NaN 2021-01-28 21:37:41  \n",
       "1                                                NaN 2021-01-28 21:32:10  \n",
       "2  The CEO of NASDAQ pushed to halt trading “to g... 2021-01-28 21:30:35  \n",
       "3                                                NaN 2021-01-28 21:28:57  \n",
       "4                                                NaN 2021-01-28 21:26:56  "
      ]
     },
     "execution_count": 2,
     "metadata": {},
     "output_type": "execute_result"
    }
   ],
   "source": [
    "#load data into dataframe\n",
    "filename=\"reddit_wsb.csv\"\n",
    "#filename=\"reddit_wsb_20_march_short.csv\"\n",
    "reddit_posts=pd.read_csv(filename,)\n",
    "reddit_posts['timestamp']=pd.to_datetime(reddit_posts['timestamp'])\n",
    "reddit_posts.drop(columns=['id','created'],inplace=True)# created column is stored as timestamp so redundant, id not useful\n",
    "reddit_posts.rename(columns={'comms_num':'No of comments'},inplace=True)\n",
    "reddit_posts.head()"
   ]
  },
  {
   "cell_type": "code",
   "execution_count": 3,
   "metadata": {
    "cell_id": "00004-3c8ad3ce-4e3b-4eca-8e22-278687588f66",
    "deepnote_cell_type": "code",
    "deepnote_to_be_reexecuted": false,
    "execution_millis": 24,
    "execution_start": 1617726039935,
    "source_hash": "fa13c7e3",
    "tags": []
   },
   "outputs": [
    {
     "name": "stdout",
     "output_type": "stream",
     "text": [
      "<class 'pandas.core.frame.DataFrame'>\n",
      "DatetimeIndex: 42713 entries, 2020-09-29 03:46:56 to 2021-03-20 19:55:00\n",
      "Data columns (total 8 columns):\n",
      " #   Column              Non-Null Count  Dtype \n",
      "---  ------              --------------  ----- \n",
      " 0   title               42713 non-null  object\n",
      " 1   score               42713 non-null  int64 \n",
      " 2   url                 42713 non-null  object\n",
      " 3   No of comments      42713 non-null  int64 \n",
      " 4   body                20538 non-null  object\n",
      " 5   Day of month        42713 non-null  int64 \n",
      " 6   Day number of week  42713 non-null  int64 \n",
      " 7   Day of week         42713 non-null  object\n",
      "dtypes: int64(4), object(4)\n",
      "memory usage: 2.9+ MB\n"
     ]
    }
   ],
   "source": [
    "#extract useful info from timestamp\n",
    "reddit_posts['Day of month']=reddit_posts['timestamp'].dt.day\n",
    "reddit_posts['Day number of week']=reddit_posts['timestamp'].dt.weekday\n",
    "#Day number of week dictionary below (for reference only, declared as a variable later on)\n",
    "#day_number_of_week_to_name={0: 'Monday', 1: 'Tuesday', 2: 'Wednesday', 3: 'Thursday', 4: 'Friday', 5: 'Saturday', 6: 'Sunday'}\n",
    "reddit_posts['Day of week'] = reddit_posts['timestamp'].apply(lambda x: parse(str(x)).strftime(\"%A\"))\n",
    "reddit_posts_timestamp_index=reddit_posts.set_index('timestamp')\n",
    "reddit_posts_timestamp_index.sort_index(inplace=True)\n",
    "reddit_posts_timestamp_index.info()"
   ]
  },
  {
   "cell_type": "code",
   "execution_count": 4,
   "metadata": {
    "cell_id": "00005-f9df52fd-7fb6-4c1f-b66a-57821f3dc0c9",
    "deepnote_cell_type": "code",
    "deepnote_to_be_reexecuted": false,
    "execution_millis": 0,
    "execution_start": 1617726039960,
    "source_hash": "f3b23b03",
    "tags": []
   },
   "outputs": [],
   "source": [
    "#Unclean dataset with first timestamp very different from rest. Will delete that record\n",
    "reddit_posts_timestamp_index=reddit_posts_timestamp_index.loc['2021-01-01': ]"
   ]
  },
  {
   "cell_type": "markdown",
   "metadata": {
    "cell_id": "00006-26113915-1884-45f9-8bb4-5cbd4f6bd729",
    "deepnote_cell_type": "markdown",
    "tags": []
   },
   "source": [
    "## Introductory data exploration\n",
    "\n",
    "Remove duplicates.\n",
    "\n",
    "Explore the data to see how many posts have a body (if not, it indicates the post was a link to an external page, video or image)"
   ]
  },
  {
   "cell_type": "code",
   "execution_count": 5,
   "metadata": {
    "cell_id": "00007-75bdffae-e165-4628-a424-a9b40e3ab2bb",
    "deepnote_cell_type": "code",
    "deepnote_to_be_reexecuted": false,
    "execution_millis": 28,
    "execution_start": 1617726039963,
    "source_hash": "4112522d",
    "tags": []
   },
   "outputs": [
    {
     "name": "stdout",
     "output_type": "stream",
     "text": [
      "4 duplicates removed\n"
     ]
    }
   ],
   "source": [
    "orig_length=len(reddit_posts_timestamp_index)\n",
    "if len(reddit_posts_timestamp_index[reddit_posts_timestamp_index.duplicated()])==0:\n",
    "    print(\"No duplicates\")\n",
    "else:\n",
    "    #print(reddit_posts_timestamp_index[reddit_posts_timestamp_index.duplicated()])    \n",
    "    reddit_posts_timestamp_index=reddit_posts_timestamp_index.drop_duplicates()\n",
    "    print(str(orig_length-len(reddit_posts_timestamp_index)) +\" duplicates removed\")"
   ]
  },
  {
   "cell_type": "code",
   "execution_count": 6,
   "metadata": {
    "cell_id": "00008-f2f47773-aed8-4615-bcbd-28443259c7f5",
    "deepnote_cell_type": "code",
    "deepnote_to_be_reexecuted": false,
    "execution_millis": 30,
    "execution_start": 1617726039974,
    "source_hash": "6496afb7",
    "tags": []
   },
   "outputs": [
    {
     "name": "stdout",
     "output_type": "stream",
     "text": [
      "48.08700945958603% are text posts\n"
     ]
    }
   ],
   "source": [
    "print(str(reddit_posts_timestamp_index.count()['body']/len(reddit_posts_timestamp_index)*100)+\"% are text posts\")"
   ]
  },
  {
   "cell_type": "markdown",
   "metadata": {
    "cell_id": "00009-37267b34-5e48-409a-a515-65f974811a8f",
    "deepnote_cell_type": "markdown",
    "tags": []
   },
   "source": [
    "For now, we'll only anlayse text posts"
   ]
  },
  {
   "cell_type": "code",
   "execution_count": 7,
   "metadata": {
    "cell_id": "00010-a105d971-8c57-4a78-aaba-cc51958c0c9a",
    "deepnote_cell_type": "code",
    "deepnote_to_be_reexecuted": false,
    "execution_millis": 15,
    "execution_start": 1617726039992,
    "source_hash": "b3c921d2",
    "tags": []
   },
   "outputs": [
    {
     "name": "stderr",
     "output_type": "stream",
     "text": [
      "<ipython-input-7-1345a6ea6c43>:3: SettingWithCopyWarning: \n",
      "A value is trying to be set on a copy of a slice from a DataFrame.\n",
      "Try using .loc[row_indexer,col_indexer] = value instead\n",
      "\n",
      "See the caveats in the documentation: https://pandas.pydata.org/pandas-docs/stable/user_guide/indexing.html#returning-a-view-versus-a-copy\n",
      "  reddit_posts_text['body length']=reddit_posts_text['body'].apply(lambda x: len(x.split()))\n",
      "<ipython-input-7-1345a6ea6c43>:4: SettingWithCopyWarning: \n",
      "A value is trying to be set on a copy of a slice from a DataFrame.\n",
      "Try using .loc[row_indexer,col_indexer] = value instead\n",
      "\n",
      "See the caveats in the documentation: https://pandas.pydata.org/pandas-docs/stable/user_guide/indexing.html#returning-a-view-versus-a-copy\n",
      "  reddit_posts_text['title length']=reddit_posts_text['title'].apply(lambda x: len(x.split()))\n"
     ]
    }
   ],
   "source": [
    "reddit_posts_text=reddit_posts_timestamp_index[reddit_posts_timestamp_index['body'].notna()]\n",
    "#generate column with body and title length\n",
    "reddit_posts_text['body length']=reddit_posts_text['body'].apply(lambda x: len(x.split()))\n",
    "reddit_posts_text['title length']=reddit_posts_text['title'].apply(lambda x: len(x.split()))"
   ]
  },
  {
   "cell_type": "code",
   "execution_count": 8,
   "metadata": {
    "cell_id": "00011-ac0655b8-afc8-478b-881a-911c9c5fda64",
    "deepnote_cell_type": "code",
    "deepnote_to_be_reexecuted": false,
    "execution_millis": 313,
    "execution_start": 1617726039998,
    "source_hash": "714efac0",
    "tags": []
   },
   "outputs": [
    {
     "data": {
      "image/png": "[encoded data removed]",
      "text/plain": [
       "<Figure size 432x288 with 2 Axes>"
      ]
     },
     "metadata": {
      "needs_background": "light"
     },
     "output_type": "display_data"
    }
   ],
   "source": [
    "#plot timeseries data\n",
    "ax = reddit_posts_text.plot(secondary_y=[\"No of comments\"], linewidth=0.3)\n",
    "\n",
    "ax.set_ylabel(\"Score\");\n",
    "ax.legend([\"score\",\"No of comments\"], loc=\"upper right\")\n",
    "ax.right_ax.set_ylabel(\"No of comments\");"
   ]
  },
  {
   "cell_type": "markdown",
   "metadata": {
    "cell_id": "00012-8dd821b3-660f-4e8a-9775-9df93a7167ae",
    "deepnote_cell_type": "markdown",
    "tags": []
   },
   "source": [
    "Let's plot a historgram showing the frequency of posts with certain scores."
   ]
  },
  {
   "cell_type": "code",
   "execution_count": 9,
   "metadata": {
    "cell_id": "00013-8fe0216e-6cca-49b5-8c85-6e80a184d6b3",
    "deepnote_cell_type": "code",
    "deepnote_to_be_reexecuted": false,
    "execution_millis": 1431,
    "execution_start": 1617726040354,
    "source_hash": "db13165",
    "tags": []
   },
   "outputs": [
    {
     "data": {
      "image/png": "[encoded data removed]",
      "text/plain": [
       "<Figure size 432x288 with 4 Axes>"
      ]
     },
     "metadata": {
      "needs_background": "light"
     },
     "output_type": "display_data"
    }
   ],
   "source": [
    "fig, ax = plt.subplots(2, 2, sharex='col')\n",
    "\n",
    "#plot subplots for score and comments with log and linear y axis\n",
    "log_value=False\n",
    "column_value='score'\n",
    "for i in range(2):\n",
    "    for j in range(2):\n",
    "        reddit_posts_text.hist(column=column_value,bins=100, log=log_value, ax=ax[i,j])\n",
    "        if column_value == 'score':\n",
    "            column_value = 'No of comments'\n",
    "        else:\n",
    "            column_value = 'score'\n",
    "    log_value = not log_value \n",
    "    \n",
    "#Uncomment to see graphs in full size rather than in parts\n",
    "\n",
    "#reddit_posts_text.hist(column='score',bins=100)\n",
    "#reddit_posts_text.hist(column='score',bins=100, log=True)\n",
    "#reddit_posts_text.hist(column='No of comments',bins=100)\n",
    "#reddit_posts_text.hist(column='No of comments',bins=100, log=True)\n"
   ]
  },
  {
   "cell_type": "markdown",
   "metadata": {
    "cell_id": "00014-6324b254-be71-46bc-ace5-0b696ec992a9",
    "deepnote_cell_type": "markdown",
    "tags": []
   },
   "source": [
    "Let's zoom in on certain parts of the range of scores and comments."
   ]
  },
  {
   "cell_type": "code",
   "execution_count": 10,
   "metadata": {
    "cell_id": "00015-dc6f7f50-33fb-4dd0-9da5-26aead501557",
    "deepnote_cell_type": "code",
    "deepnote_to_be_reexecuted": false,
    "execution_millis": 2000,
    "execution_start": 1617726041796,
    "output_cleared": false,
    "source_hash": "c980cc1d",
    "tags": []
   },
   "outputs": [
    {
     "data": {
      "image/png": "[encoded data removed]",
      "text/plain": [
       "<Figure size 432x288 with 6 Axes>"
      ]
     },
     "metadata": {
      "needs_background": "light"
     },
     "output_type": "display_data"
    }
   ],
   "source": [
    "fig, ax = plt.subplots(2, 3, sharex='col' )\n",
    "\n",
    "#plot subplots for score with log and linear y axis and different ranges of x to generate more useful plots\n",
    "\n",
    "log_value=False\n",
    "column_value='score'\n",
    "max_value={0:10,1:100,2:1000}\n",
    "for i in range(2):\n",
    "    for j in range(3):\n",
    "        reddit_posts_text[reddit_posts_text[column_value].between(0,max_value.get(j))].hist(column=column_value,bins=100, log=log_value, ax=ax[i,j])        \n",
    "    log_value = not log_value \n",
    "\n",
    "#Uncomment to see graphs in full size rather than in parts\n",
    "\n",
    "#reddit_posts_text[reddit_posts_text['score'].between(0,10)].hist(column='score',)\n",
    "#reddit_posts_text[reddit_posts_text['score'].between(0,100)].hist(column='score',bins=25)\n",
    "#reddit_posts_text[reddit_posts_text['score'].between(0,1000)].hist(column='score',bins=25)\n",
    "#reddit_posts_text[reddit_posts_text['score'].between(0,10)].hist(column='score', log =True)\n",
    "\n",
    "#reddit_posts_text[reddit_posts_text['score'].between(0,100)].hist(column='score',bins=25, log=True)\n",
    "#reddit_posts_text[reddit_posts_text['score'].between(0,1000)].hist(column='score',bins=25, log=True)\n"
   ]
  },
  {
   "cell_type": "code",
   "execution_count": 11,
   "metadata": {
    "cell_id": "00016-4885da84-6eda-40f0-98be-2476e898df7f",
    "deepnote_cell_type": "code",
    "deepnote_to_be_reexecuted": false,
    "execution_millis": 2046,
    "execution_start": 1617726043803,
    "source_hash": "f3f42263",
    "tags": []
   },
   "outputs": [
    {
     "data": {
      "image/png": "[encoded data removed]",
      "text/plain": [
       "<Figure size 432x288 with 6 Axes>"
      ]
     },
     "metadata": {
      "needs_background": "light"
     },
     "output_type": "display_data"
    }
   ],
   "source": [
    "fig, ax = plt.subplots(2, 3, sharex='col' )\n",
    "\n",
    "#plot subplots for no of comments with log and linear y axis and different ranges of x to generate more useful plots\n",
    "\n",
    "log_value=False\n",
    "column_value='No of comments'\n",
    "max_value={0:10,1:100,2:1000,}\n",
    "for i in range(2):\n",
    "    for j in range(3):\n",
    "        reddit_posts_text[reddit_posts_text[column_value].between(0,max_value.get(j))].hist(column=column_value,bins=100, log=log_value, ax=ax[i,j])        \n",
    "    log_value = not log_value \n",
    "\n",
    "#Uncomment to see graphs in full size rather than in parts\n",
    "\n",
    "#if len(reddit_posts_text[reddit_posts_text['No of comments'].between(0,10)])!=0:\n",
    "#    reddit_posts_text[reddit_posts_text['No of comments'].between(0,10)].hist(column='No of comments')\n",
    "\n",
    "#reddit_posts_text[reddit_posts_text['No of comments'].between(0,100)].hist(column='No of comments',bins=25)\n",
    "\n",
    "#reddit_posts_text[reddit_posts_text['No of comments'].between(0,1000)].hist(column='No of comments',bins=25)\n",
    "#if len(reddit_posts_text[reddit_posts_text['No of comments'].between(0,10)])!=0:\n",
    "    #reddit_posts_text[reddit_posts_text['No of comments'].between(0,10)].hist(column='No of comments',log=True,)\n",
    "#reddit_posts_text[reddit_posts_text['No of comments'].between(0,100)].hist(column='No of comments',bins=25, log=True)\n",
    "#reddit_posts_text[reddit_posts_text['No of comments'].between(0,1000)].hist(column='No of comments',bins=25, log=True)"
   ]
  },
  {
   "cell_type": "code",
   "execution_count": 12,
   "metadata": {
    "cell_id": "00017-8d1f8d3f-2972-4ae3-90d6-d04c2cbe3ffb",
    "deepnote_cell_type": "code",
    "deepnote_to_be_reexecuted": false,
    "execution_millis": 996,
    "execution_start": 1617726045888,
    "source_hash": "5f132d27",
    "tags": []
   },
   "outputs": [
    {
     "data": {
      "text/plain": [
       "<AxesSubplot:xlabel='score', ylabel='No of comments'>"
      ]
     },
     "execution_count": 12,
     "metadata": {},
     "output_type": "execute_result"
    },
    {
     "data": {
      "image/png": "[encoded data removed]",
      "text/plain": [
       "<Figure size 432x288 with 1 Axes>"
      ]
     },
     "metadata": {
      "needs_background": "light"
     },
     "output_type": "display_data"
    }
   ],
   "source": [
    "#plot scatter graph of score and no of comments\n",
    "#uncomment below to see plot with linear axis. Note, this plot not too useful\n",
    "#reddit_posts_text.plot(kind='scatter', x='score', y='No of comments',s=0.5)\n",
    "reddit_posts_text.plot(kind='scatter', x='score', y='No of comments',loglog=True, s=0.5, xlim=(10**-0.1,10**6), ylim=(10**-0.1,10**6))"
   ]
  },
  {
   "cell_type": "markdown",
   "metadata": {
    "cell_id": "00018-5a135c88-4ec9-4517-a9fd-718dcda0eb4e",
    "deepnote_cell_type": "markdown",
    "tags": []
   },
   "source": [
    "From timeseries plot above, there are periods where posts get low scores etc. Let's explore posts by day of the week. "
   ]
  },
  {
   "cell_type": "code",
   "execution_count": 13,
   "metadata": {
    "cell_id": "00019-09e61ba3-f821-471c-a85d-7661b481da7a",
    "deepnote_cell_type": "code",
    "deepnote_to_be_reexecuted": false,
    "execution_millis": 132,
    "execution_start": 1617726046847,
    "source_hash": "51b397b5",
    "tags": []
   },
   "outputs": [
    {
     "data": {
      "text/plain": [
       "<AxesSubplot:xlabel='Day of week'>"
      ]
     },
     "execution_count": 13,
     "metadata": {},
     "output_type": "execute_result"
    },
    {
     "data": {
      "image/png": "[encoded data removed]",
      "text/plain": [
       "<Figure size 432x288 with 1 Axes>"
      ]
     },
     "metadata": {
      "needs_background": "light"
     },
     "output_type": "display_data"
    }
   ],
   "source": [
    "#create historgram showing number of posts for each day of week\n",
    "\n",
    "reddit_posts_text_group_by_day=reddit_posts_text.groupby('Day number of week').count()\n",
    "reddit_posts_text_group_by_day=reddit_posts_text_group_by_day.drop(columns=['title','url','body','Day of month','No of comments','Day of week'])\n",
    "reddit_posts_text_group_by_day.rename(columns={'score':'Count'},inplace=True)\n",
    "reddit_posts_text_group_by_day.reset_index(inplace=True)\n",
    "day_number_of_week_to_name={0: 'Monday', 1: 'Tuesday', 2: 'Wednesday', 3: 'Thursday', 4: 'Friday', 5: 'Saturday', 6: 'Sunday'}\n",
    "reddit_posts_text_group_by_day['Day of week'] = reddit_posts_text_group_by_day['Day number of week'].apply(lambda x: day_number_of_week_to_name.get(x) )\n",
    "reddit_posts_text_group_by_day.plot.bar(x='Day of week', y='Count')\n"
   ]
  },
  {
   "cell_type": "markdown",
   "metadata": {
    "cell_id": "00020-03884bcf-6756-4d72-960a-0066595712ed",
    "deepnote_cell_type": "markdown",
    "tags": []
   },
   "source": [
    "Clearly, most of the posts are posted on Friday.\n",
    "\n",
    "From histograms above showing score and comments, clearly a large number of posts have very few of either.\n",
    "\n",
    "Let's filter out the posts with few comments and a low score"
   ]
  },
  {
   "cell_type": "code",
   "execution_count": 14,
   "metadata": {
    "cell_id": "00021-64c1e454-cc72-460f-bbaf-6cd1fc8734e5",
    "deepnote_cell_type": "code",
    "deepnote_to_be_reexecuted": false,
    "execution_millis": 99,
    "execution_start": 1617726047014,
    "source_hash": "d03267a8",
    "tags": []
   },
   "outputs": [
    {
     "name": "stdout",
     "output_type": "stream",
     "text": [
      "26.30861372157569% of posts gain decent traction\n"
     ]
    }
   ],
   "source": [
    "reddit_posts_text_score_more_than_50=reddit_posts_text[reddit_posts_text['score']>50]\n",
    "reddit_posts_text_comments_more_than_20_and_score_more_than_50=reddit_posts_text_score_more_than_50[reddit_posts_text_score_more_than_50['No of comments']>20]\n",
    "print(str(len(reddit_posts_text_comments_more_than_20_and_score_more_than_50)/len(reddit_posts_text)*100)+\"% of posts gain decent traction\")"
   ]
  },
  {
   "cell_type": "code",
   "execution_count": 15,
   "metadata": {
    "cell_id": "00022-e8469738-c380-4b20-8a6a-ee9b7379ad0e",
    "deepnote_cell_type": "code",
    "deepnote_to_be_reexecuted": false,
    "execution_millis": 1370,
    "execution_start": 1617726047015,
    "source_hash": "ffd24b70",
    "tags": []
   },
   "outputs": [
    {
     "data": {
      "image/png": "[encoded data removed]",
      "text/plain": [
       "<Figure size 432x288 with 4 Axes>"
      ]
     },
     "metadata": {
      "needs_background": "light"
     },
     "output_type": "display_data"
    }
   ],
   "source": [
    "fig, ax = plt.subplots(2, 2, sharex='col')\n",
    "\n",
    "#plot subplots for score and comments with log and linear y axis\n",
    "log_value=False\n",
    "column_value='score'\n",
    "for i in range(2):\n",
    "    for j in range(2):\n",
    "        reddit_posts_text_comments_more_than_20_and_score_more_than_50.hist(column=column_value,bins=100, log=log_value, ax=ax[i,j])\n",
    "        if column_value == 'score':\n",
    "            column_value = 'No of comments'\n",
    "        else:\n",
    "            column_value = 'score'\n",
    "    log_value = not log_value \n",
    "\n",
    "\n",
    "#reddit_posts_text_comments_more_than_20_and_score_more_than_50.hist(column='No of comments',bins=100,log=True)\n",
    "#reddit_posts_text_comments_more_than_20_and_score_more_than_50.hist(column='score',bins=100,log=True)"
   ]
  },
  {
   "cell_type": "code",
   "execution_count": 16,
   "metadata": {
    "cell_id": "00023-326894c2-9340-4e7a-a5af-3152444aa66d",
    "deepnote_cell_type": "code",
    "deepnote_to_be_reexecuted": false,
    "execution_millis": 259,
    "execution_start": 1617726048375,
    "source_hash": "4157f548",
    "tags": []
   },
   "outputs": [
    {
     "data": {
      "text/plain": [
       "<AxesSubplot:xlabel='Day of week'>"
      ]
     },
     "execution_count": 16,
     "metadata": {},
     "output_type": "execute_result"
    },
    {
     "data": {
      "image/png": "[encoded data removed]",
      "text/plain": [
       "<Figure size 432x288 with 1 Axes>"
      ]
     },
     "metadata": {
      "needs_background": "light"
     },
     "output_type": "display_data"
    }
   ],
   "source": [
    "#create historgram showing number of posts for each day of week using filtered dataset\n",
    "\n",
    "\n",
    "reddit_posts_text_comments_more_than_20_and_score_more_than_50_group_by_day=reddit_posts_text_comments_more_than_20_and_score_more_than_50.groupby('Day number of week').count()\n",
    "reddit_posts_text_comments_more_than_20_and_score_more_than_50_group_by_day=reddit_posts_text_comments_more_than_20_and_score_more_than_50_group_by_day.drop(columns=['title','url','body','Day of month','No of comments','Day of week'])\n",
    "reddit_posts_text_comments_more_than_20_and_score_more_than_50_group_by_day.rename(columns={'score':'Count'},inplace=True)\n",
    "reddit_posts_text_comments_more_than_20_and_score_more_than_50_group_by_day.reset_index(inplace=True)\n",
    "day_number_of_week_to_name={0: 'Monday', 1: 'Tuesday', 2: 'Wednesday', 3: 'Thursday', 4: 'Friday', 5: 'Saturday', 6: 'Sunday'}\n",
    "reddit_posts_text_comments_more_than_20_and_score_more_than_50_group_by_day['Day of week'] = reddit_posts_text_comments_more_than_20_and_score_more_than_50_group_by_day['Day number of week'].apply(lambda x: day_number_of_week_to_name.get(x) )\n",
    "reddit_posts_text_comments_more_than_20_and_score_more_than_50_group_by_day.plot.bar(x='Day of week', y='Count')"
   ]
  },
  {
   "cell_type": "code",
   "execution_count": 17,
   "metadata": {
    "cell_id": "00024-3d4d3987-14ea-483a-81ae-a3c29294f9b2",
    "deepnote_cell_type": "code",
    "deepnote_to_be_reexecuted": false,
    "execution_millis": 412,
    "execution_start": 1617726048525,
    "source_hash": "128990a0",
    "tags": []
   },
   "outputs": [
    {
     "data": {
      "text/plain": [
       "<AxesSubplot:xlabel='score', ylabel='No of comments'>"
      ]
     },
     "execution_count": 17,
     "metadata": {},
     "output_type": "execute_result"
    },
    {
     "data": {
      "image/png": "[encoded data removed]",
      "text/plain": [
       "<Figure size 432x288 with 1 Axes>"
      ]
     },
     "metadata": {
      "needs_background": "light"
     },
     "output_type": "display_data"
    }
   ],
   "source": [
    "#plot scatter graph of score and no of comments (filtered dataset)\n",
    "\n",
    "reddit_posts_text_comments_more_than_20_and_score_more_than_50.plot(kind='scatter', x='score', y='No of comments', s=1, logy=True, logx=True)\n"
   ]
  },
  {
   "cell_type": "code",
   "execution_count": 18,
   "metadata": {
    "cell_id": "00025-15c20fbc-6770-4d8e-a521-96c507e7a052",
    "deepnote_cell_type": "code",
    "deepnote_to_be_reexecuted": false,
    "execution_millis": 2417,
    "execution_start": 1617726048956,
    "source_hash": "2dc1ef9f",
    "tags": []
   },
   "outputs": [
    {
     "data": {
      "image/png": "[encoded data removed]",
      "text/plain": [
       "<Figure size 432x288 with 4 Axes>"
      ]
     },
     "metadata": {
      "needs_background": "light"
     },
     "output_type": "display_data"
    }
   ],
   "source": [
    "fig, ax = plt.subplots(2, 2, sharex='col')\n",
    "\n",
    "log_value=False\n",
    "column_value='title length'\n",
    "bins_value=50\n",
    "for i in range(2):\n",
    "    for j in range(2):\n",
    "        reddit_posts_text_comments_more_than_20_and_score_more_than_50.hist(column=column_value,bins=bins_value, log=log_value, ax=ax[i,j])\n",
    "        if column_value == 'title length':\n",
    "            column_value = 'body length'\n",
    "            bins_value=500\n",
    "        else:\n",
    "            column_value = 'title length'\n",
    "            bins_value=50\n",
    "    log_value = not log_value \n",
    "\n",
    "#reddit_posts_text_comments_more_than_20_and_score_more_than_50.hist('title length', bins=50)\n",
    "#reddit_posts_text_comments_more_than_20_and_score_more_than_50.hist('title length', bins=50, log=True)\n",
    "#reddit_posts_text_comments_more_than_20_and_score_more_than_50.hist('body length', bins=500)\n",
    "#reddit_posts_text_comments_more_than_20_and_score_more_than_50.hist('body length', bins=500, log=True)"
   ]
  },
  {
   "cell_type": "code",
   "execution_count": 19,
   "metadata": {
    "cell_id": "00026-e3c1aa2b-e755-49f6-9439-8bd61445f454",
    "deepnote_cell_type": "code",
    "deepnote_to_be_reexecuted": false,
    "execution_millis": 2301,
    "execution_start": 1617726051345,
    "source_hash": "c8737641",
    "tags": []
   },
   "outputs": [
    {
     "data": {
      "image/png": "[encoded data removed]",
      "text/plain": [
       "<Figure size 432x288 with 6 Axes>"
      ]
     },
     "metadata": {
      "needs_background": "light"
     },
     "output_type": "display_data"
    }
   ],
   "source": [
    "fig, ax = plt.subplots(2, 3, sharex='col' )\n",
    "#histograms of body length (no of characters)\n",
    "log_value=False\n",
    "column_value='body length'\n",
    "max_value={0:100,1:1000,2:2000,}\n",
    "for i in range(2):\n",
    "    for j in range(3):\n",
    "        reddit_posts_text_comments_more_than_20_and_score_more_than_50[reddit_posts_text_comments_more_than_20_and_score_more_than_50[column_value].between(0,max_value.get(j))].hist(column=column_value,bins=100, log=log_value, ax=ax[i,j])        \n",
    "    log_value = not log_value \n",
    "\n",
    "#reddit_posts_text_comments_more_than_20_and_score_more_than_50[reddit_posts_text_comments_more_than_20_and_score_more_than_50['body length'].between(0,100)].hist('body length', bins=100)\n",
    "#reddit_posts_text_comments_more_than_20_and_score_more_than_50[reddit_posts_text_comments_more_than_20_and_score_more_than_50['body length'].between(0,1000)].hist('body length', bins=100)\n",
    "#reddit_posts_text_comments_more_than_20_and_score_more_than_50[reddit_posts_text_comments_more_than_20_and_score_more_than_50['body length'].between(0,2000)].hist('body length', bins=100)\n"
   ]
  },
  {
   "cell_type": "markdown",
   "metadata": {
    "cell_id": "00027-7652ef47-024f-44c6-82f0-0fc6d93cac98",
    "deepnote_cell_type": "markdown",
    "tags": []
   },
   "source": []
  },
  {
   "cell_type": "code",
   "execution_count": 36,
   "metadata": {
    "cell_id": "00028-ef8490a6-f493-471d-893c-c223123c0d48",
    "deepnote_cell_type": "code",
    "deepnote_to_be_reexecuted": false,
    "execution_millis": 1244,
    "execution_start": 1617726053561,
    "source_hash": "9bf83fde",
    "tags": []
   },
   "outputs": [
    {
     "name": "stdout",
     "output_type": "stream",
     "text": [
      "25\n",
      "50\n",
      "100\n",
      "25\n",
      "50\n",
      "100\n"
     ]
    },
    {
     "data": {
      "image/png": "[encoded data removed]",
      "text/plain": [
       "<Figure size 432x288 with 6 Axes>"
      ]
     },
     "metadata": {
      "needs_background": "light"
     },
     "output_type": "display_data"
    }
   ],
   "source": [
    "fig, ax = plt.subplots(2, 3, sharex='col' )\n",
    "#histograms of title length (no of characters)\n",
    "log_value=False\n",
    "column_value='title length'\n",
    "max_value={0:25,1:50,2:100,}\n",
    "for i in range(2):\n",
    "    for j in range(3):\n",
    "        reddit_posts_text_comments_more_than_20_and_score_more_than_50[reddit_posts_text_comments_more_than_20_and_score_more_than_50[column_value].between(0,max_value.get(j))].hist(column=column_value,bins=50, log=log_value, ax=ax[i,j])        \n",
    "    log_value = not log_value \n",
    "\n",
    "#reddit_posts_text_comments_more_than_20_and_score_more_than_50[reddit_posts_text_comments_more_than_20_and_score_more_than_50['body length'].between(0,100)].hist('title length', bins=100)\n",
    "#reddit_posts_text_comments_more_than_20_and_score_more_than_50[reddit_posts_text_comments_more_than_20_and_score_more_than_50['body length'].between(0,1000)].hist('title length', bins=100)\n",
    "#reddit_posts_text_comments_more_than_20_and_score_more_than_50[reddit_posts_text_comments_more_than_20_and_score_more_than_50['body length'].between(0,2000)].hist('title length', bins=100)\n"
   ]
  },
  {
   "cell_type": "markdown",
   "metadata": {
    "cell_id": "00029-c59ee5b8-1e49-4466-99ab-a2aa2d56d95b",
    "deepnote_cell_type": "markdown",
    "tags": []
   },
   "source": [
    "Let's attempt simple linear regression to quantify the relationship between log(score) and log(number of comments). This information "
   ]
  },
  {
   "cell_type": "code",
   "execution_count": 21,
   "metadata": {
    "cell_id": "00030-3f202307-ca65-4a0d-960d-2954fd293640",
    "deepnote_cell_type": "code",
    "deepnote_to_be_reexecuted": false,
    "execution_millis": 2,
    "execution_start": 1617726054809,
    "source_hash": "76fa6590",
    "tags": []
   },
   "outputs": [],
   "source": [
    "#drop irrelevant columns and log required data in dataframe\n",
    "reddit_posts_text_for_linear_regression=reddit_posts_text.drop(columns=['url','body','title', 'Day number of week', 'Day of month'])\n",
    "reddit_posts_text_for_linear_regression=pd.get_dummies(reddit_posts_text_for_linear_regression,columns=['Day of week'])\n",
    "text_for_lin_reg_score_comments_logged=reddit_posts_text_for_linear_regression.copy()\n",
    "text_for_lin_reg_score_comments_logged=text_for_lin_reg_score_comments_logged[text_for_lin_reg_score_comments_logged['score']>0]\n",
    "text_for_lin_reg_score_comments_logged=text_for_lin_reg_score_comments_logged[text_for_lin_reg_score_comments_logged['No of comments']>0]\n",
    "columns=['score','No of comments']\n",
    "for column in columns:\n",
    "    text_for_lin_reg_score_comments_logged[column] = np.log10(text_for_lin_reg_score_comments_logged[column])  \n",
    "\n",
    "\n"
   ]
  },
  {
   "cell_type": "code",
   "execution_count": 22,
   "metadata": {
    "cell_id": "00031-144274f5-f3d1-4ccd-b095-7e57a6fb67ba",
    "deepnote_cell_type": "code",
    "deepnote_to_be_reexecuted": false,
    "execution_millis": 785,
    "execution_start": 1617726054815,
    "source_hash": "f97f135c",
    "tags": []
   },
   "outputs": [],
   "source": [
    "#import models\n",
    "from sklearn import linear_model\n",
    "from sklearn.model_selection import train_test_split\n",
    "linreg = linear_model.LinearRegression() "
   ]
  },
  {
   "cell_type": "code",
   "execution_count": 23,
   "metadata": {
    "cell_id": "00032-c46527ef-c0d5-4f0a-ac74-82ff4bff0c8e",
    "deepnote_cell_type": "code",
    "deepnote_to_be_reexecuted": false,
    "execution_millis": 5,
    "execution_start": 1617726055606,
    "source_hash": "ee9db500",
    "tags": []
   },
   "outputs": [],
   "source": [
    "x=text_for_lin_reg_score_comments_logged.copy()\n",
    "y=text_for_lin_reg_score_comments_logged.copy()\n",
    "x.reset_index(inplace=True)\n",
    "y.reset_index(inplace=True)\n",
    "x=pd.DataFrame(x['score'])\n",
    "y=pd.DataFrame(y['No of comments'])"
   ]
  },
  {
   "cell_type": "code",
   "execution_count": 24,
   "metadata": {
    "cell_id": "00033-df32139e-457a-4faf-baa3-9066402ac067",
    "deepnote_cell_type": "code",
    "deepnote_to_be_reexecuted": false,
    "execution_millis": 12,
    "execution_start": 1617726055618,
    "source_hash": "1b1e1226",
    "tags": []
   },
   "outputs": [
    {
     "name": "stdout",
     "output_type": "stream",
     "text": [
      "0.6973527570093738\n",
      "[[0.64424118]]\n"
     ]
    }
   ],
   "source": [
    "x_train, x_test, y_train, y_test = train_test_split(x, y)\n",
    "linreg = linear_model.LinearRegression() \n",
    "linreg.fit(x_train,y_train)\n",
    "print(linreg.score(x_test,y_test))\n",
    "print(linreg.coef_)\n",
    "\n",
    "#result printed for lin reg y = no of comments, x = score"
   ]
  },
  {
   "cell_type": "code",
   "execution_count": 25,
   "metadata": {
    "cell_id": "00034-11a6dde9-58b3-475a-bb29-afd7b96a41e2",
    "deepnote_cell_type": "code",
    "deepnote_to_be_reexecuted": false,
    "execution_millis": 17,
    "execution_start": 1617726055643,
    "source_hash": "faf1e0e6",
    "tags": []
   },
   "outputs": [
    {
     "name": "stdout",
     "output_type": "stream",
     "text": [
      "0.7087153648582787\n",
      "[[1.10497511]]\n"
     ]
    }
   ],
   "source": [
    "x=text_for_lin_reg_score_comments_logged.copy()\n",
    "y=text_for_lin_reg_score_comments_logged.copy()\n",
    "x.reset_index(inplace=True)\n",
    "y.reset_index(inplace=True)\n",
    "y=pd.DataFrame(y['score'])\n",
    "x=pd.DataFrame(x['No of comments'])\n",
    "\n",
    "x_train, x_test, y_train, y_test = train_test_split(x, y)\n",
    "linreg = linear_model.LinearRegression() \n",
    "linreg.fit(x_train,y_train)\n",
    "print(linreg.score(x_test,y_test))\n",
    "print(linreg.coef_)\n",
    "#result printed for lin reg  y = score, x = no of comments,"
   ]
  },
  {
   "cell_type": "markdown",
   "metadata": {
    "cell_id": "00035-3c4ade0a-c8aa-42c0-a574-bcaa19f8a8f9",
    "deepnote_cell_type": "markdown",
    "tags": []
   },
   "source": [
    "Above linear regression best fit lines could be used to set threshold levels to ascertain whether a post's score has been manipulated (as the number of comments may be far from the expected amount etc)"
   ]
  },
  {
   "cell_type": "markdown",
   "metadata": {
    "cell_id": "00036-09db91de-dd8b-45cf-b5c7-e032f3758599",
    "deepnote_cell_type": "markdown",
    "tags": []
   },
   "source": [
    "Let's attempt K-Means clustering for the text title"
   ]
  },
  {
   "cell_type": "code",
   "execution_count": 26,
   "metadata": {
    "cell_id": "00037-8f1131e3-e326-4b89-bd4c-80969a9306b7",
    "deepnote_cell_type": "code",
    "deepnote_to_be_reexecuted": false,
    "execution_millis": 5,
    "execution_start": 1617726055654,
    "source_hash": "b892668c",
    "tags": []
   },
   "outputs": [],
   "source": [
    "reddit_posts_text=pd.get_dummies(reddit_posts_text,columns=['Day of week'])\n",
    "reddit_posts_text_min_max_scaled=reddit_posts_text.copy()\n",
    "columns=['score','No of comments', 'body length', 'title length']\n",
    "for column in columns:\n",
    "    reddit_posts_text_min_max_scaled[column] = (reddit_posts_text_min_max_scaled[column] - reddit_posts_text_min_max_scaled[column].min()) / (reddit_posts_text_min_max_scaled[column].max() - reddit_posts_text_min_max_scaled[column].min())     \n",
    "\n"
   ]
  },
  {
   "cell_type": "code",
   "execution_count": 27,
   "metadata": {
    "cell_id": "00038-c6af3451-0a6e-4394-b9c5-0252d305f90d",
    "deepnote_cell_type": "code",
    "deepnote_to_be_reexecuted": false,
    "execution_millis": 1023,
    "execution_start": 1617726055706,
    "source_hash": "eaf5c201",
    "tags": []
   },
   "outputs": [
    {
     "name": "stderr",
     "output_type": "stream",
     "text": [
      "[nltk_data] Downloading package stopwords to\n",
      "[nltk_data]     /Users/loganvasudeva/nltk_data...\n",
      "[nltk_data]   Package stopwords is already up-to-date!\n",
      "[nltk_data] Downloading package wordnet to\n",
      "[nltk_data]     /Users/loganvasudeva/nltk_data...\n",
      "[nltk_data]   Package wordnet is already up-to-date!\n",
      "[nltk_data] Downloading package averaged_perceptron_tagger to\n",
      "[nltk_data]     /Users/loganvasudeva/nltk_data...\n",
      "[nltk_data]   Package averaged_perceptron_tagger is already up-to-\n",
      "[nltk_data]       date!\n",
      "[nltk_data] Downloading package punkt to\n",
      "[nltk_data]     /Users/loganvasudeva/nltk_data...\n",
      "[nltk_data]   Package punkt is already up-to-date!\n"
     ]
    },
    {
     "data": {
      "text/plain": [
       "True"
      ]
     },
     "execution_count": 27,
     "metadata": {},
     "output_type": "execute_result"
    }
   ],
   "source": [
    "import nltk\n",
    "from nltk.corpus import stopwords\n",
    "from nltk.stem import WordNetLemmatizer, LancasterStemmer\n",
    "from nltk.corpus import wordnet\n",
    "nltk.download('stopwords')\n",
    "nltk.download('wordnet')\n",
    "nltk.download('averaged_perceptron_tagger')\n",
    "nltk.download('punkt')"
   ]
  },
  {
   "cell_type": "code",
   "execution_count": 28,
   "metadata": {
    "cell_id": "00039-0ea74626-5a26-4f44-8f41-1b138b6e1989",
    "deepnote_cell_type": "code",
    "deepnote_to_be_reexecuted": false,
    "execution_millis": 30,
    "execution_start": 1617726056740,
    "source_hash": "bbc0e3ce",
    "tags": []
   },
   "outputs": [],
   "source": [
    "import contractions\n",
    "import inflect\n",
    "import string\n",
    "import unicodedata\n",
    "def remove_non_ascii(words):\n",
    "    \"\"\"Remove non-ASCII characters from list of tokenized words\"\"\"\n",
    "    new_words = []\n",
    "    for word in words:\n",
    "        new_word = unicodedata.normalize('NFKD', word).encode('ascii', 'ignore').decode('utf-8', 'ignore')\n",
    "        new_words.append(new_word)\n",
    "    return new_words\n",
    "def replace_contractions(text):\n",
    "    \"\"\"Replace contractions in string of text\"\"\"\n",
    "    return contractions.fix(text)\n",
    "\n",
    "def to_lowercase(words):\n",
    "    \"\"\"Convert all characters to lowercase from list of tokenized words\"\"\"\n",
    "    new_words = []\n",
    "    for word in words:\n",
    "        new_word = word.lower()\n",
    "        new_words.append(new_word)\n",
    "    return new_words\n",
    "\n",
    "def replace_numbers(words):\n",
    "    \"\"\"Replace all interger occurrences in list of tokenized words with textual representation\"\"\"\n",
    "    p = inflect.engine()\n",
    "    new_words = []\n",
    "    for word in words:\n",
    "        if word.isdigit():\n",
    "            new_word = p.number_to_words(word)\n",
    "            new_words.append(new_word)\n",
    "        else:\n",
    "            new_words.append(word)\n",
    "    return new_words\n",
    "\n",
    "def my_pre_process(sentence):\n",
    "    words=replace_contractions(sentence)\n",
    "    #words = nltk.word_tokenize(sentence)\n",
    "    #words=replace_numbers(sentence)\n",
    "    words=to_lowercase(words)\n",
    "    #print(words)\n",
    "    words=\"\".join(words)\n",
    "    #print(words)\n",
    "    words=\"\".join(words)\n",
    "\n",
    "\n",
    "    words=replace_numbers(words)\n",
    "    #print(words)\n",
    "    words=\"\".join(words)\n",
    "    #print(words)\n",
    "    return words\n",
    "    \n",
    "def remove_stopwords(words):\n",
    "    \"\"\"Remove stop words from list of tokenized words\"\"\"\n",
    "    new_words = []\n",
    "    for word in words:\n",
    "        if word not in stopwords.words('english'):\n",
    "            new_words.append(word)\n",
    "    return new_words\n",
    "\n",
    "def remove_punc_and_tidy(tokenised_words):\n",
    "    output_list=[]\n",
    "    #print(tokenised_words)\n",
    "    for word in tokenised_words:\n",
    "        #print(word)\n",
    "        output = [char for char in word if char not in string.punctuation]\n",
    "        #print(output)\n",
    "        #ouput = ''.join([i for i in output if not i.isdigit()])\n",
    "        output_word = output\n",
    "        output_word = ''.join([i for i in output_word if not i.isdigit()])\n",
    "       #print(output_word)\n",
    "        if output_word != \"\":\n",
    "            output_list.append(output_word)\n",
    "    return output_list    \n",
    "\n",
    "def lemmatize(words):\n",
    "    \"\"\"Lemmatize verbs in list of tokenized words\"\"\"\n",
    "    lemmatizer = WordNetLemmatizer()\n",
    "    lemmas = []\n",
    "    for word in words:\n",
    "        lemma = lemmatizer.lemmatize(word, pos='v')\n",
    "        lemmas.append(lemma)\n",
    "    return lemmas\n",
    "    \n",
    "def my_tokeniser(sentence):\n",
    "    words = nltk.word_tokenize(sentence)\n",
    "    words=remove_stopwords(words)\n",
    "    words=remove_non_ascii(words)\n",
    "    words=remove_punc_and_tidy(words)\n",
    "    lemmas = lemmatize(words)\n",
    "    return lemmas\n",
    "\n",
    "def wm2df(wm, feat_names):\n",
    "    \n",
    "    # create an index for each row\n",
    "    doc_names = ['Doc{:d}'.format(idx) for idx, _ in enumerate(wm)]\n",
    "    df = pd.DataFrame(data=wm.toarray(), index=doc_names,\n",
    "                      columns=feat_names)\n",
    "    return(df)"
   ]
  },
  {
   "cell_type": "code",
   "execution_count": 29,
   "metadata": {
    "cell_id": "00040-035fdfd3-d485-4a29-b8a0-e6621ee3c727",
    "deepnote_cell_type": "code",
    "deepnote_to_be_reexecuted": false,
    "execution_millis": 1,
    "execution_start": 1617726056770,
    "source_hash": "cc27bce2",
    "tags": []
   },
   "outputs": [],
   "source": [
    "from sklearn.feature_extraction.text import CountVectorizer\n",
    "\n",
    "#below is test code to see if functions are working\n",
    "#custom_vec_test = CountVectorizer(preprocessor=my_pre_process, tokenizer=my_tokeniser)\n",
    "#sentence=\"Hey There! This is a Sample review, which happens  to contain 456 films. This happened on Tuesday\"\n",
    "#cwm_test = custom_vec_test.fit_transform([sentence])\n",
    "#print(cwm_test)\n",
    "#tokens_test = custom_vec_test.get_feature_names()\n",
    "#print(tokens_test)\n",
    "#print(wm2df(cwm_test, tokens_test))"
   ]
  },
  {
   "cell_type": "code",
   "execution_count": 30,
   "metadata": {
    "cell_id": "00041-d816e262-84d1-417d-8feb-5c8edb2f9d3a",
    "deepnote_cell_type": "code",
    "deepnote_to_be_reexecuted": false,
    "execution_millis": 123,
    "execution_start": 1617726056773,
    "source_hash": "5c75adad",
    "tags": []
   },
   "outputs": [],
   "source": [
    "from sklearn.cluster import KMeans"
   ]
  },
  {
   "cell_type": "code",
   "execution_count": 31,
   "metadata": {
    "cell_id": "00043-3bb7cefa-72c8-4fda-957a-587564b88a66",
    "deepnote_cell_type": "code",
    "deepnote_to_be_reexecuted": false,
    "execution_millis": 7502,
    "execution_start": 1617726057279,
    "source_hash": "b62477ae",
    "tags": []
   },
   "outputs": [
    {
     "name": "stdout",
     "output_type": "stream",
     "text": [
      "Iteration 1 in for loop\n",
      "Iteration 2 in for loop\n",
      "Iteration 3 in for loop\n",
      "Iteration 4 in for loop\n",
      "Iteration 5 in for loop\n",
      "Iteration 6 in for loop\n",
      "Iteration 7 in for loop\n",
      "Iteration 8 in for loop\n",
      "Iteration 9 in for loop\n",
      "Iteration 10 in for loop\n",
      "Iteration 11 in for loop\n",
      "Iteration 12 in for loop\n",
      "Iteration 13 in for loop\n"
     ]
    },
    {
     "data": {
      "image/png": "[encoded data removed]",
      "text/plain": [
       "<Figure size 432x288 with 1 Axes>"
      ]
     },
     "metadata": {
      "needs_background": "light"
     },
     "output_type": "display_data"
    }
   ],
   "source": [
    "custom_vec = CountVectorizer(preprocessor=my_pre_process, tokenizer=my_tokeniser)\n",
    "cwm = custom_vec.fit_transform(reddit_posts_text_min_max_scaled['title'].values)\n",
    "#print(cwm)\n",
    "tokens = custom_vec.get_feature_names()\n",
    "#print(tokens)\n",
    "body_text_tokensised_dataframe=wm2df(cwm,tokens)\n",
    "model_list=[]\n",
    "inertia_variance = []\n",
    "for i in range(1,14):\n",
    "    kmeans = KMeans(n_clusters=i,init='k-means++',max_iter=300,n_init=10,random_state=0)\n",
    "    model_list.append(kmeans.fit(body_text_tokensised_dataframe))\n",
    "    inertia_variance.append(kmeans.inertia_)\n",
    "    print(\"Iteration \" + str(i)+ \" in for loop\")\n",
    "#Plot the graph\n",
    "plt.plot(range(1,14),inertia_variance)\n",
    "plt.title('Elbow Method')\n",
    "plt.xlabel('Number of clusters')\n",
    "plt.ylabel('variance inertia per cluster')\n",
    "plt.show()"
   ]
  },
  {
   "cell_type": "code",
   "execution_count": 39,
   "metadata": {
    "cell_id": "00044-0a06dd9f-4134-4f6d-88bf-ee9c59ad42d5",
    "deepnote_cell_type": "code",
    "deepnote_to_be_reexecuted": false,
    "execution_millis": 37,
    "execution_start": 1617726064786,
    "scrolled": false,
    "source_hash": "ce214801",
    "tags": []
   },
   "outputs": [
    {
     "name": "stdout",
     "output_type": "stream",
     "text": [
      "0 = buy, amc, hold, dip, stock, sell, robinhood, go, share, nok, let, still, bb, us, fuck, time, trade, gme, allow, get, short, gamestop, one, want, block\n",
      "1 = robinhood, hold, go, stock, short, amc, get, sell, trade, us, fuck, dd, market, let, make, wsb, squeeze, need, one, today, like, money, still, moon, time\n",
      "2 = ag, zyxi, frankfurt, freak, fraudulent, frauds, fraud, frat, frantically, frankly, franklin, frank, freddie, frame, fracture, fractional, fraction, fractals, fr, fp, freakin, free, foxa, freeTM, fresenius\n",
      "3 = gme, buy, amc, hold, short, go, sell, share, stock, robinhood, bb, get, still, trade, nok, squeeze, us, price, let, allow, moon, today, one, like, think\n"
     ]
    }
   ],
   "source": [
    "word_features = custom_vec.get_feature_names()\n",
    "#seeing at it when it's clustered into 4 clusters\n",
    "x_clusters=model_list[4-1]\n",
    "wc=x_clusters.cluster_centers_.argsort()[:,-1:-26:-1]\n",
    "for number, centroid in enumerate(wc):\n",
    "    print(str(number) + ' = ' + ', '.join(word_features[word] for word in centroid))"
   ]
  },
  {
   "cell_type": "markdown",
   "metadata": {
    "cell_id": "00085-15429227-626c-4ab1-8ba6-88bf63d9d75a",
    "deepnote_cell_type": "markdown",
    "tags": []
   },
   "source": [
    "------------------------------"
   ]
  }
 ],
 "metadata": {
  "deepnote": {},
  "deepnote_execution_queue": [],
  "deepnote_notebook_id": "13dda9ba-8c36-46ca-81ec-be72a36bd28c",
  "kernelspec": {
   "display_name": "NLP",
   "language": "python",
   "name": "nlp"
  },
  "language_info": {
   "codemirror_mode": {
    "name": "ipython",
    "version": 3
   },
   "file_extension": ".py",
   "mimetype": "text/x-python",
   "name": "python",
   "nbconvert_exporter": "python",
   "pygments_lexer": "ipython3",
   "version": "3.8.8"
  }
 },
 "nbformat": 4,
 "nbformat_minor": 2
}
