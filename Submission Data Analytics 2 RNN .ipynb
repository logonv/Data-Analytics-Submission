{
 "cells": [
  {
   "cell_type": "code",
   "execution_count": 1,
   "id": "attempted-trading",
   "metadata": {},
   "outputs": [],
   "source": [
    "from keras import models, layers\n",
    "from sklearn.preprocessing import MinMaxScaler\n",
    "from datetime import datetime\n",
    "import math\n",
    "import numpy as np\n",
    "import pandas as pd\n",
    "%matplotlib inline\n",
    "import matplotlib.pyplot as plt"
   ]
  },
  {
   "cell_type": "code",
   "execution_count": 2,
   "id": "reliable-network",
   "metadata": {},
   "outputs": [],
   "source": [
    "priceAMC = pd.read_json(\"1dAMC.json\")\n",
    "priceAMC = priceAMC.filter(['AMC'])"
   ]
  },
  {
   "cell_type": "code",
   "execution_count": 3,
   "id": "occasional-lender",
   "metadata": {},
   "outputs": [
    {
     "data": {
      "image/png": "[encoded data removed]",
      "text/plain": [
       "<Figure size 432x288 with 1 Axes>"
      ]
     },
     "metadata": {
      "needs_background": "light"
     },
     "output_type": "display_data"
    }
   ],
   "source": [
    "plt.plot(priceAMC)\n",
    "plt.show()"
   ]
  },
  {
   "cell_type": "code",
   "execution_count": 4,
   "id": "second-swing",
   "metadata": {},
   "outputs": [
    {
     "data": {
      "text/plain": [
       "1260"
      ]
     },
     "execution_count": 4,
     "metadata": {},
     "output_type": "execute_result"
    }
   ],
   "source": [
    "#convert to numpy array\n",
    "data_array = priceAMC.values\n",
    "#using an 80/20 training/testing split\n",
    "train_data_len = math.ceil(len(data_array)* .8)\n",
    "train_data_len"
   ]
  },
  {
   "cell_type": "code",
   "execution_count": 5,
   "id": "quantitative-guide",
   "metadata": {},
   "outputs": [
    {
     "data": {
      "text/plain": [
       "array([[0.65962148],\n",
       "       [0.64064798],\n",
       "       [0.64639751],\n",
       "       ...,\n",
       "       [0.28770269],\n",
       "       [0.33643283],\n",
       "       [0.31732672]])"
      ]
     },
     "execution_count": 5,
     "metadata": {},
     "output_type": "execute_result"
    }
   ],
   "source": [
    "#scaling\n",
    "scaler = MinMaxScaler(feature_range=(0,1))\n",
    "scaled = scaler.fit_transform(data_array)\n",
    "scaled"
   ]
  },
  {
   "cell_type": "code",
   "execution_count": 6,
   "id": "earned-publisher",
   "metadata": {},
   "outputs": [
    {
     "name": "stdout",
     "output_type": "stream",
     "text": [
      "[array([0.65962148, 0.64064798, 0.64639751, 0.65818424, 0.66537108,\n",
      "       0.69526899, 0.71309286, 0.70935564, 0.71165548, 0.70734312,\n",
      "       0.70073113, 0.69871883, 0.70303097, 0.7211423 , 0.73637865])]\n",
      "[0.7412657160580454]\n",
      "\n",
      "[array([0.65962148, 0.64064798, 0.64639751, 0.65818424, 0.66537108,\n",
      "       0.69526899, 0.71309286, 0.70935564, 0.71165548, 0.70734312,\n",
      "       0.70073113, 0.69871883, 0.70303097, 0.7211423 , 0.73637865]), array([0.64064798, 0.64639751, 0.65818424, 0.66537108, 0.69526899,\n",
      "       0.71309286, 0.70935564, 0.71165548, 0.70734312, 0.70073113,\n",
      "       0.69871883, 0.70303097, 0.7211423 , 0.73637865, 0.74126572])]\n",
      "[0.7412657160580454, 0.7415532518032466]\n",
      "\n"
     ]
    }
   ],
   "source": [
    "train_data = scaled[0:train_data_len,:]\n",
    "x_train = []\n",
    "y_train = []\n",
    "# IMPORTANT lookback interval, LSTM use lookback memory for time start with 15\n",
    "for i in range(15, len(train_data)):\n",
    "    x_train.append(train_data[i-15:i, 0])\n",
    "    y_train.append(train_data[i, 0])\n",
    "    if i<=16:\n",
    "        print(x_train)\n",
    "        print(y_train)\n",
    "        print()"
   ]
  },
  {
   "cell_type": "code",
   "execution_count": 7,
   "id": "alternative-definition",
   "metadata": {},
   "outputs": [
    {
     "data": {
      "text/plain": [
       "(1245, 15, 1)"
      ]
     },
     "execution_count": 7,
     "metadata": {},
     "output_type": "execute_result"
    }
   ],
   "source": [
    "#convert all ot numpy arrays\n",
    "x_train, y_train = np.array(x_train), np.array(y_train)\n",
    "\n",
    "#reshape arrays to 3d \n",
    "x_train = np.reshape(x_train, (x_train.shape[0], x_train.shape[1], 1))\n",
    "x_train.shape"
   ]
  },
  {
   "cell_type": "code",
   "execution_count": 8,
   "id": "specified-consumption",
   "metadata": {},
   "outputs": [],
   "source": [
    "#build RNN1\n",
    "model = models.Sequential()\n",
    "model.add(layers.LSTM(50, return_sequences=True, input_shape=(x_train.shape[1],1)))\n",
    "model.add(layers.LSTM(50))\n",
    "model.add(layers.Dense(12))\n",
    "model.add(layers.Dense(1, activation= 'tanh'))"
   ]
  },
  {
   "cell_type": "code",
   "execution_count": 9,
   "id": "behavioral-alloy",
   "metadata": {},
   "outputs": [],
   "source": [
    "#leave one RNN model uncommented to run \n",
    "# #build RNN2\n",
    "# model = models.Sequential()\n",
    "# model.add(layers.LSTM(100, return_sequences=True, input_shape=(x_train.shape[1],1)))\n",
    "# model.add(layers.LSTM(100, recurrent_dropout=0.2))\n",
    "# model.add(layers.Dense(12))\n",
    "# model.add(layers.Dense(1, activation= 'tanh'))"
   ]
  },
  {
   "cell_type": "code",
   "execution_count": 10,
   "id": "about-joyce",
   "metadata": {},
   "outputs": [],
   "source": [
    "#leave one RNN model uncommented to run\n",
    "# #build RNN3\n",
    "# model = models.Sequential()\n",
    "# model.add(layers.LSTM(100, return_sequences=True, input_shape=(x_train.shape[1],1)))\n",
    "# model.add(layers.LSTM(100, return_sequences=True, recurrent_dropout=0.2))\n",
    "# model.add(layers.LSTM(100))\n",
    "# model.add(layers.Dense(1, activation= 'sigmoid'))"
   ]
  },
  {
   "cell_type": "code",
   "execution_count": 11,
   "id": "banner-killer",
   "metadata": {},
   "outputs": [],
   "source": [
    "#leave one RNN model uncommented to run\n",
    "# #build RNN4\n",
    "# model = models.Sequential()\n",
    "# model.add(layers.LSTM(200, return_sequences=True, input_shape=(x_train.shape[1],1)))\n",
    "# model.add(layers.LSTM(200, recurrent_dropout=0.2))\n",
    "# model.add(layers.Dense(6))\n",
    "# model.add(layers.Dense(1, activation= 'relu'))"
   ]
  },
  {
   "cell_type": "code",
   "execution_count": 12,
   "id": "hollywood-things",
   "metadata": {},
   "outputs": [],
   "source": [
    "#compile\n",
    "model.compile(optimizer='adam', loss='mean_squared_error')"
   ]
  },
  {
   "cell_type": "code",
   "execution_count": 13,
   "id": "through-dance",
   "metadata": {},
   "outputs": [
    {
     "name": "stdout",
     "output_type": "stream",
     "text": [
      "Epoch 1/15\n",
      "415/415 [==============================] - 7s 7ms/step - loss: 0.0119\n",
      "Epoch 2/15\n",
      "415/415 [==============================] - 3s 7ms/step - loss: 0.0019\n",
      "Epoch 3/15\n",
      "415/415 [==============================] - 3s 7ms/step - loss: 0.0015\n",
      "Epoch 4/15\n",
      "415/415 [==============================] - 3s 8ms/step - loss: 9.4474e-04\n",
      "Epoch 5/15\n",
      "415/415 [==============================] - 3s 8ms/step - loss: 8.0552e-04\n",
      "Epoch 6/15\n",
      "415/415 [==============================] - 3s 7ms/step - loss: 7.7158e-04\n",
      "Epoch 7/15\n",
      "415/415 [==============================] - 3s 8ms/step - loss: 6.5598e-04\n",
      "Epoch 8/15\n",
      "415/415 [==============================] - 3s 7ms/step - loss: 6.2775e-04\n",
      "Epoch 9/15\n",
      "415/415 [==============================] - 3s 8ms/step - loss: 5.9085e-04\n",
      "Epoch 10/15\n",
      "415/415 [==============================] - 3s 8ms/step - loss: 5.2921e-04\n",
      "Epoch 11/15\n",
      "415/415 [==============================] - 3s 7ms/step - loss: 5.4131e-04\n",
      "Epoch 12/15\n",
      "415/415 [==============================] - 3s 7ms/step - loss: 5.1635e-04\n",
      "Epoch 13/15\n",
      "415/415 [==============================] - 3s 7ms/step - loss: 4.6467e-04\n",
      "Epoch 14/15\n",
      "415/415 [==============================] - 3s 7ms/step - loss: 4.2623e-04\n",
      "Epoch 15/15\n",
      "415/415 [==============================] - 4s 9ms/step - loss: 3.8126e-04\n"
     ]
    },
    {
     "data": {
      "text/plain": [
       "<tensorflow.python.keras.callbacks.History at 0x21f8e588190>"
      ]
     },
     "execution_count": 13,
     "metadata": {},
     "output_type": "execute_result"
    }
   ],
   "source": [
    "#train\n",
    "model.fit(x_train, y_train, batch_size=3, epochs=15)"
   ]
  },
  {
   "cell_type": "code",
   "execution_count": 14,
   "id": "obvious-sellers",
   "metadata": {},
   "outputs": [],
   "source": [
    "test_data = scaled[train_data_len - 15:, :]\n",
    "#create the data sets x_test and y_test\n",
    "x_test = []\n",
    "y_test = data_array[train_data_len:, :]\n",
    "for i in range(15, len(test_data)):\n",
    "    x_test.append(test_data[i-15:i, 0])"
   ]
  },
  {
   "cell_type": "code",
   "execution_count": 15,
   "id": "certified-cooling",
   "metadata": {},
   "outputs": [],
   "source": [
    "#convert the data to array\n",
    "x_test = np.array(x_test)\n",
    "\n",
    "#reshape the data\n",
    "x_test = np.reshape(x_test, (x_test.shape[0], x_test.shape[1], 1))"
   ]
  },
  {
   "cell_type": "code",
   "execution_count": 16,
   "id": "signal-victoria",
   "metadata": {},
   "outputs": [],
   "source": [
    "#get the models' predictions\n",
    "predictions = model.predict(x_test)\n",
    "predictions = scaler.inverse_transform(predictions)"
   ]
  },
  {
   "cell_type": "code",
   "execution_count": 17,
   "id": "incoming-selection",
   "metadata": {},
   "outputs": [
    {
     "data": {
      "text/plain": [
       "1.254236230313943"
      ]
     },
     "execution_count": 17,
     "metadata": {},
     "output_type": "execute_result"
    }
   ],
   "source": [
    "#Get the root mean squared error (RMSE)\n",
    "rmse = np.sqrt(np.mean(((predictions - y_test)**2)))\n",
    "rmse"
   ]
  },
  {
   "cell_type": "code",
   "execution_count": 18,
   "id": "neural-immunology",
   "metadata": {},
   "outputs": [
    {
     "data": {
      "text/plain": [
       "15.770251403388077"
      ]
     },
     "execution_count": 18,
     "metadata": {},
     "output_type": "execute_result"
    }
   ],
   "source": [
    "#Get the mean average percentage error (MAPE)\n",
    "mape = ((1/len(y_test))*(np.sum((predictions - y_test)/y_test))*100)\n",
    "mape"
   ]
  },
  {
   "cell_type": "code",
   "execution_count": 19,
   "id": "informational-california",
   "metadata": {},
   "outputs": [
    {
     "name": "stderr",
     "output_type": "stream",
     "text": [
      "<ipython-input-19-072b5487e39b>:4: SettingWithCopyWarning: \n",
      "A value is trying to be set on a copy of a slice from a DataFrame.\n",
      "Try using .loc[row_indexer,col_indexer] = value instead\n",
      "\n",
      "See the caveats in the documentation: https://pandas.pydata.org/pandas-docs/stable/user_guide/indexing.html#returning-a-view-versus-a-copy\n",
      "  valid['Predictions'] = predictions\n"
     ]
    },
    {
     "data": {
      "image/png": "[encoded data removed]",
      "text/plain": [
       "<Figure size 1152x576 with 1 Axes>"
      ]
     },
     "metadata": {
      "needs_background": "light"
     },
     "output_type": "display_data"
    }
   ],
   "source": [
    "#Plot the data\n",
    "train = priceAMC[:train_data_len]\n",
    "valid = priceAMC[train_data_len:]\n",
    "valid['Predictions'] = predictions\n",
    "#Visualise the data\n",
    "plt.figure(figsize=(16,8))\n",
    "plt.title('AMC 1d Model')\n",
    "plt.xlabel('Date', fontsize=18)\n",
    "plt.ylabel('Close price AMC', fontsize=18)\n",
    "plt.plot(train['AMC'],linewidth=0.8)\n",
    "plt.plot(valid,linewidth=0.8)\n",
    "plt.legend(['Train', 'Val', 'Predictions'], loc= 'lower right')\n",
    "plt.show()"
   ]
  },
  {
   "cell_type": "code",
   "execution_count": 20,
   "id": "irish-finding",
   "metadata": {},
   "outputs": [
    {
     "name": "stdout",
     "output_type": "stream",
     "text": [
      "Saved modelAMC to disk\n"
     ]
    }
   ],
   "source": [
    "#Save the model! serialise to json\n",
    "model_AMC_json = model.to_json()\n",
    "with open(\"Model_AMC.json\", \"w\") as json_file:\n",
    "    json_file.write(model_AMC_json)\n",
    "#Save the serialised weights\n",
    "model.save_weights(\"Model_AMC.h5\")\n",
    "print (\"Saved modelAMC to disk\")"
   ]
  },
  {
   "cell_type": "code",
   "execution_count": 21,
   "id": "rolled-hartford",
   "metadata": {},
   "outputs": [],
   "source": [
    "from keras import models"
   ]
  },
  {
   "cell_type": "code",
   "execution_count": 22,
   "id": "recorded-comedy",
   "metadata": {},
   "outputs": [
    {
     "name": "stdout",
     "output_type": "stream",
     "text": [
      "Loaded modelAMC from disk\n"
     ]
    }
   ],
   "source": [
    "#Load saved model and saved weights so as to not train again\n",
    "json_file = open(\"Model_AMC.json\", 'r')\n",
    "loaded_model_AMC_json = json_file.read()\n",
    "json_file.close()\n",
    "loaded_model_AMC = models.model_from_json(loaded_model_AMC_json)\n",
    "# load weights into new model\n",
    "loaded_model_AMC.load_weights(\"Model_AMC.h5\")\n",
    "print(\"Loaded modelAMC from disk\")"
   ]
  },
  {
   "cell_type": "code",
   "execution_count": 23,
   "id": "northern-license",
   "metadata": {},
   "outputs": [],
   "source": [
    "#Compile loaded model\n",
    "loaded_model_AMC.compile(optimizer='adam', loss='mean_squared_error')"
   ]
  },
  {
   "cell_type": "code",
   "execution_count": 24,
   "id": "likely-relations",
   "metadata": {},
   "outputs": [
    {
     "name": "stdout",
     "output_type": "stream",
     "text": [
      "Model: \"sequential\"\n",
      "_________________________________________________________________\n",
      "Layer (type)                 Output Shape              Param #   \n",
      "=================================================================\n",
      "lstm (LSTM)                  (None, 15, 50)            10400     \n",
      "_________________________________________________________________\n",
      "lstm_1 (LSTM)                (None, 50)                20200     \n",
      "_________________________________________________________________\n",
      "dense (Dense)                (None, 12)                612       \n",
      "_________________________________________________________________\n",
      "dense_1 (Dense)              (None, 1)                 13        \n",
      "=================================================================\n",
      "Total params: 31,225\n",
      "Trainable params: 31,225\n",
      "Non-trainable params: 0\n",
      "_________________________________________________________________\n"
     ]
    }
   ],
   "source": [
    "loaded_model_AMC.summary()"
   ]
  }
 ],
 "metadata": {
  "kernelspec": {
   "display_name": "Python 3",
   "language": "python",
   "name": "python3"
  },
  "language_info": {
   "codemirror_mode": {
    "name": "ipython",
    "version": 3
   },
   "file_extension": ".py",
   "mimetype": "text/x-python",
   "name": "python",
   "nbconvert_exporter": "python",
   "pygments_lexer": "ipython3",
   "version": "3.8.5"
  }
 },
 "nbformat": 4,
 "nbformat_minor": 5
}
